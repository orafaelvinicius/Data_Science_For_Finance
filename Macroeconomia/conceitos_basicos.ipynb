{
 "cells": [
  {
   "cell_type": "markdown",
   "metadata": {},
   "source": [
    "# Conceitos básicos de macroeconomia do Brasil"
   ]
  },
  {
   "cell_type": "markdown",
   "metadata": {},
   "source": [
    "Neste notebook, iremos abordar alguns indicadores de macroeconomia do Brasil.\n",
    "\n",
    "Vamos falar sobre taxas, juros e diversos pontos dessa sopa de letrinhas tentando simplificar o entendimento para as pessoas de modo geral."
   ]
  },
  {
   "cell_type": "code",
   "execution_count": null,
   "metadata": {},
   "outputs": [],
   "source": []
  }
 ],
 "metadata": {
  "language_info": {
   "name": "python"
  }
 },
 "nbformat": 4,
 "nbformat_minor": 2
}
